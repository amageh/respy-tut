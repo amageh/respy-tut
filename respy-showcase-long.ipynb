{
 "cells": [
  {
   "cell_type": "markdown",
   "metadata": {},
   "source": [
    "<div class=\"alert alert-block alert-info\">\n",
    "    <img style=\"float: right;\" src=\"https://raw.githubusercontent.com/OpenSourceEconomics/ose-corporate-design/master/logos/OSE_logo_RGB.svg\" width=\"150\">\n",
    "    <u><h1>respy Showcase</h1></u>\n",
    "</div>"
   ]
  },
  {
   "cell_type": "markdown",
   "metadata": {},
   "source": [
    "### What is **respy**?\n",
    "\n",
    "**respy** is an open source framework written in Python for the simulation and estimation of some finite-horizon discrete choice dynamic programming models. The group of models which can be currently represented in **respy** are called Eckstein-Keane-Wolpin models.\n",
    "\n",
    "### Where do I find more information?\n",
    "\n",
    "**GitHub:** The source code is available at https://github.com/OpenSourceEconomics/respy.\n",
    "\n",
    "**Online Documentation:** The online documentation with tutorials, guides, and more is available at https://respy.readthedocs.io.\n",
    "\n",
    "**Lectures:** Lectures on selected topics like Maximum Likilhood estimation using **respy** can be found here: https://ekw-lectures.readthedocs.io.\n",
    "\n",
    "### Why should I use the package?\n",
    "\n",
    "What makes **respy** powerful is that it allows to build and solve structural models in weeks or months whose development usually takes years. \n",
    "\n",
    "### Outline\n",
    "\n",
    "The upcoming tutorial provides an example on how you can utilize **respy** to set up your own model. As an example, we implement a Robinson Crusoe economy as a discrete choice dynamic programming model. The tutorial is structured as follows:\n",
    "\n",
    " 1.  Installation  \n",
    " 2.  Introductory Tutorial  \n",
    "  2.1. Theoretical Framework  \n",
    "  2.2. Specifying a Model in Respy  \n",
    "  2.3. Simulating Data  \n",
    "  2.4. Extending the Model  \n",
    " 3. Example Models in respy\n",
    " 4. Further and upcoming functionalities in respy and other OpenSourceEconomics packages\n",
    "    "
   ]
  },
  {
   "cell_type": "markdown",
   "metadata": {},
   "source": [
    "<div class=\"alert alert-block alert-info\">\n",
    "    <u><h2>1. Installation</h2></u>\n",
    "</div>"
   ]
  },
  {
   "cell_type": "markdown",
   "metadata": {},
   "source": [
    "The package can be installed via conda as follows\n",
    "\n",
    "```\n",
    "$ conda config --add channels conda-forge\n",
    "$ conda install -c opensourceeconomics respy\n",
    "```\n",
    "\n",
    "After doing so, you can import respy alongside all other packages you are using."
   ]
  },
  {
   "cell_type": "code",
   "execution_count": 5,
   "metadata": {
    "ExecuteTime": {
     "end_time": "2020-11-03T21:38:09.171367Z",
     "start_time": "2020-11-03T21:38:05.553706Z"
    }
   },
   "outputs": [],
   "source": [
    "import io\n",
    "import copy\n",
    "import yaml\n",
    "import numpy as np\n",
    "import pandas as pd\n",
    "import respy as rp\n",
    "import seaborn as sns\n",
    "import matplotlib.pyplot as plt\n",
    "from IPython.display import Image\n",
    "from pathlib import Path\n",
    "\n",
    "from auxiliary.auxiliary import *"
   ]
  },
  {
   "cell_type": "markdown",
   "metadata": {},
   "source": [
    "<div class=\"alert alert-block alert-info\">\n",
    "    <u><h1>2. Introductory Tutorial</h1></u>\n",
    "</div>"
   ]
  },
  {
   "cell_type": "markdown",
   "metadata": {},
   "source": [
    "<div class=\"alert alert-block alert-info\">\n",
    "    <u><h2>2.1. Theoretical Framework: Robinson Crusoe on an island</h2></u>\n",
    "</div>"
   ]
  },
  {
   "cell_type": "markdown",
   "metadata": {},
   "source": [
    "> After setting sail against his parents' wishes, being captured by pirates, escaping from them, building a plantation, and setting sail again, [Robinson Crusoe](https://en.wikipedia.org/wiki/Robinson_Crusoe) stranded on a small island. He is alone with one dog, two cats, and only some supplies. He goes fishing to make ends meet and if he is too tired he will relax in his hammock. But, he cannot relax to often as storing food is a difficult task on a tropical island.\n",
    "\n",
    "\n",
    "Summarizing this economic problem:\n",
    "\n",
    "- Robinson chooses every period $t = 0, \\dots, T$ to either go fishing, $a = 0$, or spend the day in the hammock, $a = 1$."
   ]
  },
  {
   "cell_type": "code",
   "execution_count": 6,
   "metadata": {
    "ExecuteTime": {
     "end_time": "2020-11-03T21:38:09.179644Z",
     "start_time": "2020-11-03T21:38:09.172867Z"
    }
   },
   "outputs": [
    {
     "data": {
      "image/jpeg": "[encoded data removed]",
      "text/plain": [
       "<IPython.core.display.Image object>"
      ]
     },
     "execution_count": 6,
     "metadata": {},
     "output_type": "execute_result"
    }
   ],
   "source": [
    "Image(filename=\"figures/tree_small.jpg\")"
   ]
  },
  {
   "cell_type": "markdown",
   "metadata": {},
   "source": [
    "- If Robinson chooses to go fishing, he gains one additional unit of experience in the next period. Experience starts at zero.\n",
    "\n",
    "- The utility of a choice, $U(s_t, a_t)$, depends on the state $s_t$, which contains information on the individual's characteristics, and the chosen alternative $a_t$.\n",
    "\n",
    "- Robinson's utility for any given option can be denoted by\n",
    "\n",
    "$$\\begin{align}\n",
    "    U(s_t, a_t) = \\underbrace{W(s_t, a_t)}_{wage} + \\underbrace{N(s_t, a_t)}_{non-pecuniary}\n",
    "\\end{align}\n",
    "$$\n",
    "\n",
    "**Working alternatives**\n",
    "\n",
    "- For working alternatives like fishing, utility consists of two components, a wage and a non-pecuniary component. The wage is defined as \n",
    "\n",
    "$$\\begin{align}\n",
    "        W(s_t, a_t)  &= r_a \\exp\\{x^w_{at} \\beta^w_a + \\epsilon_{at}\\}\\\\\n",
    "    \\ln(W(s_t, a_t)) &= \\ln(r_a) + x^w_{at} \\beta^w_a + \\epsilon_{at}\n",
    "\\end{align}$$\n",
    "\n",
    "- It consists of several components:\n",
    "    - $r_a$ is a market rental price for skill units.\n",
    "    - $x^w_{at}$ and $\\beta^w_a$ are the choice- and time-dependent covariates and returns related to the wage signaled by superscript $w$. \n",
    "    - $\\epsilon_{at}$ is a choice-specific random shock from the shock vector $\\epsilon_t \\sim \\mathcal{N}(0, \\Sigma)$ for all choices.\n",
    "\n",
    "- The non-pecuniary rewards for working alternatives are a vector dot product of covariates $x_t^w$ and parameters $\\beta^w$. The superscript $w$ signals that the components belong to working alternatives.\n",
    "\n",
    "$$\\begin{align}\n",
    "    N^w(s_t, a_t) = x_t^w\\beta^w\n",
    "\\end{align}$$\n",
    "\n",
    "**Non-working alternatives**\n",
    "\n",
    "- For non-working alternatives like the hammock, $W(s_t, a_t) = 0$. The non-pecuniary reward for non-working alternatives is very similar to the working alternative except that the shocks enter the equation additively. Superscript $n$ stands for non-pecuniary.\n",
    "\n",
    "$$\n",
    "    N^n(s_t, a_t) = x_t^n\\beta^n + \\epsilon_{at}\n",
    "$$\n",
    "\n",
    "\n",
    "- Robinson's choice set thus consists of a \"working\" alternative which awards him a pecuniary compensation or wage and a \"leisure\" or non-working alternative which he derives a utility from, but no experience or wage. Experience in this basic model starts at zero and increases by one for every period $t$ in $1, ..., T$ where he chooses to go fishing. \n",
    "\n",
    "\n",
    "**Robinson's choice problem**\n",
    "\n",
    "- During his time on the island, Robinson has to make choices about which actions to take. The general assumption is that Robinson is forward-looking and maximizes the expected present value of utility over the remaining lifetime which is achieved by selecting the optimal sequence of choices $\\{a_t\\}^T_{t = 0}$.\n",
    "\n",
    "\n",
    "- Robinsons decision problem can be expressed as a Bellman equation where the value of a given state consists of the current and future state values associated with it.  \n",
    "\n",
    "$$\\begin{align}\n",
    "    V(s_{t})&= \\max_{a_t} \\, \\{\\underbrace{U(s_t, a_t)}_{\\text{flow utility}}+ \\delta \\underbrace{\\text{E}[ V(s_{t+1})]\\}}_{\\text{continuation value}}\n",
    "\\end{align}$$\n",
    "\n",
    "- For each period, the value of a given choice consists of its flow utility and its continuation value. Since the realization of shocks becomes known in each period before Robinson makes his choice, the flow utility can be extracted from the expectation operator. As shocks in period $t + 1$ are unknown to the individual in period $t$, utility must be maximized given the joint distribution of shocks in period $t + 1$ which is a maximization problem over a two-dimensional integral. Denote the non-stochastic part of a state as $s^-$. Then, Robinson maximizes\n",
    "\n",
    "$$\\begin{equation}\n",
    "    V(s_t) = \\max_{a_t}\\{\n",
    "        U(s_t, a_t) + \\delta \\int_{\\epsilon_{1, t + 1}} \\int_{\\epsilon_{0, t + 1}}\n",
    "        \\max_{a_{t + 1}} V_{a_{t + 1}}(s^-_{t + 1}, \\epsilon_{t + 1})\n",
    "        f_\\epsilon(\\epsilon_{t + 1})\n",
    "        d_{\\epsilon_{0, t + 1}}, d_{\\epsilon_{1, t + 1}}\n",
    "    \\}\n",
    "\\end{equation}$$"
   ]
  },
  {
   "cell_type": "markdown",
   "metadata": {},
   "source": [
    "<div class=\"alert alert-block alert-info\">\n",
    "    <u><h2>2.2. Specifying the Model in respy</h2></u>\n",
    "</div>\n",
    "\n",
    "We can use **respy** to implement the model specified above. In order to process a model, **respy** requires two main inputs: `params` and `options`.\n"
   ]
  },
  {
   "cell_type": "markdown",
   "metadata": {},
   "source": [
    "### params\n",
    "\n",
    "The `params` object acts as the parameter vector of the model. Most of its values translate directly to parameters you can see in the equations. \n",
    "\n",
    "Parameters are specified as a [MultiIndex pandas.DataFrame](https://pandas.pydata.org/pandas-docs/stable/user_guide/advanced.html) with two index levels. A *category* which indicates certain parameters groups and a *name* which indicates a specific parameter. There are certain naming conventions in place that help **respy** recognize different parameters of the model.\n",
    "\n",
    "We can read in parameters from a .csv-file. Here we define the parameter data in a string format to showcase the specification. Usually, the more convenient way would be to specify the parameters outside this notebook and to just import them from a separate file."
   ]
  },
  {
   "cell_type": "code",
   "execution_count": 7,
   "metadata": {
    "ExecuteTime": {
     "end_time": "2020-11-03T21:38:09.189232Z",
     "start_time": "2020-11-03T21:38:09.183313Z"
    }
   },
   "outputs": [],
   "source": [
    "params = \"\"\"category,name,value\n",
    "delta,delta,0.95\n",
    "wage_fishing,exp_fishing,0.1\n",
    "nonpec_fishing,constant,-1\n",
    "nonpec_hammock,constant,2.5\n",
    "nonpec_hammock,not_fishing_last_period,-1\n",
    "shocks_sdcorr,sd_fishing,1\n",
    "shocks_sdcorr,sd_hammock,1\n",
    "shocks_sdcorr,corr_hammock_fishing,-0.2\n",
    "lagged_choice_1_hammock,constant,1\n",
    "\"\"\""
   ]
  },
  {
   "cell_type": "code",
   "execution_count": 8,
   "metadata": {
    "ExecuteTime": {
     "end_time": "2020-11-03T21:38:09.203409Z",
     "start_time": "2020-11-03T21:38:09.192479Z"
    }
   },
   "outputs": [],
   "source": [
    "params_basic = pd.read_csv(\n",
    "    io.StringIO(params), sep=\",\", index_col=[\"category\", \"name\"]\n",
    ")"
   ]
  },
  {
   "cell_type": "code",
   "execution_count": 9,
   "metadata": {
    "ExecuteTime": {
     "end_time": "2020-11-03T21:38:09.224905Z",
     "start_time": "2020-11-03T21:38:09.205464Z"
    }
   },
   "outputs": [
    {
     "data": {
      "text/html": [
       "<div>\n",
       "<style scoped>\n",
       "    .dataframe tbody tr th:only-of-type {\n",
       "        vertical-align: middle;\n",
       "    }\n",
       "\n",
       "    .dataframe tbody tr th {\n",
       "        vertical-align: top;\n",
       "    }\n",
       "\n",
       "    .dataframe thead th {\n",
       "        text-align: right;\n",
       "    }\n",
       "</style>\n",
       "<table border=\"1\" class=\"dataframe\">\n",
       "  <thead>\n",
       "    <tr style=\"text-align: right;\">\n",
       "      <th></th>\n",
       "      <th></th>\n",
       "      <th>value</th>\n",
       "    </tr>\n",
       "    <tr>\n",
       "      <th>category</th>\n",
       "      <th>name</th>\n",
       "      <th></th>\n",
       "    </tr>\n",
       "  </thead>\n",
       "  <tbody>\n",
       "    <tr>\n",
       "      <th>delta</th>\n",
       "      <th>delta</th>\n",
       "      <td>0.95</td>\n",
       "    </tr>\n",
       "    <tr>\n",
       "      <th>wage_fishing</th>\n",
       "      <th>exp_fishing</th>\n",
       "      <td>0.10</td>\n",
       "    </tr>\n",
       "    <tr>\n",
       "      <th>nonpec_fishing</th>\n",
       "      <th>constant</th>\n",
       "      <td>-1.00</td>\n",
       "    </tr>\n",
       "    <tr>\n",
       "      <th rowspan=\"2\" valign=\"top\">nonpec_hammock</th>\n",
       "      <th>constant</th>\n",
       "      <td>2.50</td>\n",
       "    </tr>\n",
       "    <tr>\n",
       "      <th>not_fishing_last_period</th>\n",
       "      <td>-1.00</td>\n",
       "    </tr>\n",
       "    <tr>\n",
       "      <th rowspan=\"3\" valign=\"top\">shocks_sdcorr</th>\n",
       "      <th>sd_fishing</th>\n",
       "      <td>1.00</td>\n",
       "    </tr>\n",
       "    <tr>\n",
       "      <th>sd_hammock</th>\n",
       "      <td>1.00</td>\n",
       "    </tr>\n",
       "    <tr>\n",
       "      <th>corr_hammock_fishing</th>\n",
       "      <td>-0.20</td>\n",
       "    </tr>\n",
       "    <tr>\n",
       "      <th>lagged_choice_1_hammock</th>\n",
       "      <th>constant</th>\n",
       "      <td>1.00</td>\n",
       "    </tr>\n",
       "  </tbody>\n",
       "</table>\n",
       "</div>"
      ],
      "text/plain": [
       "                                                 value\n",
       "category                name                          \n",
       "delta                   delta                     0.95\n",
       "wage_fishing            exp_fishing               0.10\n",
       "nonpec_fishing          constant                 -1.00\n",
       "nonpec_hammock          constant                  2.50\n",
       "                        not_fishing_last_period  -1.00\n",
       "shocks_sdcorr           sd_fishing                1.00\n",
       "                        sd_hammock                1.00\n",
       "                        corr_hammock_fishing     -0.20\n",
       "lagged_choice_1_hammock constant                  1.00"
      ]
     },
     "execution_count": 9,
     "metadata": {},
     "output_type": "execute_result"
    }
   ],
   "source": [
    "params_basic"
   ]
  },
  {
   "cell_type": "markdown",
   "metadata": {},
   "source": [
    "### options"
   ]
  },
  {
   "cell_type": "markdown",
   "metadata": {},
   "source": [
    "The second object required to set up a model are the `options`. The are specified as a dictionary which contains additional information like the number of periods in the model or the size of the simulated sample."
   ]
  },
  {
   "cell_type": "code",
   "execution_count": 10,
   "metadata": {
    "ExecuteTime": {
     "end_time": "2020-11-03T21:38:09.229404Z",
     "start_time": "2020-11-03T21:38:09.226618Z"
    }
   },
   "outputs": [],
   "source": [
    "options_basic = {\n",
    "    \"n_periods\": 10,\n",
    "    \"simulation_agents\": 1000,\n",
    "    \"simulation_seed\": 123,\n",
    "    \"covariates\": {\n",
    "        \"constant\": \"1\",\n",
    "        \"not_fishing_last_period\": \"lagged_choice_1 != 'fishing'\",\n",
    "    },\n",
    "}"
   ]
  },
  {
   "cell_type": "code",
   "execution_count": 11,
   "metadata": {},
   "outputs": [
    {
     "data": {
      "text/plain": [
       "{'n_periods': 10,\n",
       " 'simulation_agents': 1000,\n",
       " 'simulation_seed': 123,\n",
       " 'covariates': {'constant': '1',\n",
       "  'not_fishing_last_period': \"lagged_choice_1 != 'fishing'\"}}"
      ]
     },
     "execution_count": 11,
     "metadata": {},
     "output_type": "execute_result"
    }
   ],
   "source": [
    "options_basic"
   ]
  },
  {
   "cell_type": "markdown",
   "metadata": {},
   "source": [
    "<div class=\"alert alert-block alert-info\">\n",
    "    <u><h2>2.3. Simulating Data</h2></u>\n",
    "</div>\n",
    "\n",
    "Using the `params` and `options` we can set up a simulator using the function `get_simulate_func` and subsequently simulate a data for our selected parametrization."
   ]
  },
  {
   "cell_type": "code",
   "execution_count": 12,
   "metadata": {
    "ExecuteTime": {
     "end_time": "2020-11-03T21:38:13.829496Z",
     "start_time": "2020-11-03T21:38:09.242592Z"
    }
   },
   "outputs": [],
   "source": [
    "simulate = rp.get_simulate_func(params_basic, options_basic)\n",
    "df_basic = simulate(params_basic)"
   ]
  },
  {
   "cell_type": "code",
   "execution_count": 13,
   "metadata": {
    "ExecuteTime": {
     "end_time": "2020-11-03T21:38:13.860405Z",
     "start_time": "2020-11-03T21:38:13.832074Z"
    }
   },
   "outputs": [
    {
     "data": {
      "text/html": [
       "<div>\n",
       "<style scoped>\n",
       "    .dataframe tbody tr th:only-of-type {\n",
       "        vertical-align: middle;\n",
       "    }\n",
       "\n",
       "    .dataframe tbody tr th {\n",
       "        vertical-align: top;\n",
       "    }\n",
       "\n",
       "    .dataframe thead th {\n",
       "        text-align: right;\n",
       "    }\n",
       "</style>\n",
       "<table border=\"1\" class=\"dataframe\">\n",
       "  <thead>\n",
       "    <tr style=\"text-align: right;\">\n",
       "      <th></th>\n",
       "      <th></th>\n",
       "      <th>Experience_Fishing</th>\n",
       "      <th>Lagged_Choice_1</th>\n",
       "      <th>Shock_Reward_Fishing</th>\n",
       "      <th>Meas_Error_Wage_Fishing</th>\n",
       "      <th>Shock_Reward_Hammock</th>\n",
       "      <th>Meas_Error_Wage_Hammock</th>\n",
       "      <th>Dense_Key</th>\n",
       "      <th>Core_Index</th>\n",
       "      <th>Choice</th>\n",
       "      <th>Wage</th>\n",
       "      <th>...</th>\n",
       "      <th>Nonpecuniary_Reward_Fishing</th>\n",
       "      <th>Wage_Fishing</th>\n",
       "      <th>Flow_Utility_Fishing</th>\n",
       "      <th>Value_Function_Fishing</th>\n",
       "      <th>Continuation_Value_Fishing</th>\n",
       "      <th>Nonpecuniary_Reward_Hammock</th>\n",
       "      <th>Wage_Hammock</th>\n",
       "      <th>Flow_Utility_Hammock</th>\n",
       "      <th>Value_Function_Hammock</th>\n",
       "      <th>Continuation_Value_Hammock</th>\n",
       "    </tr>\n",
       "    <tr>\n",
       "      <th>Identifier</th>\n",
       "      <th>Period</th>\n",
       "      <th></th>\n",
       "      <th></th>\n",
       "      <th></th>\n",
       "      <th></th>\n",
       "      <th></th>\n",
       "      <th></th>\n",
       "      <th></th>\n",
       "      <th></th>\n",
       "      <th></th>\n",
       "      <th></th>\n",
       "      <th></th>\n",
       "      <th></th>\n",
       "      <th></th>\n",
       "      <th></th>\n",
       "      <th></th>\n",
       "      <th></th>\n",
       "      <th></th>\n",
       "      <th></th>\n",
       "      <th></th>\n",
       "      <th></th>\n",
       "      <th></th>\n",
       "    </tr>\n",
       "  </thead>\n",
       "  <tbody>\n",
       "    <tr>\n",
       "      <th rowspan=\"5\" valign=\"top\">0</th>\n",
       "      <th>0</th>\n",
       "      <td>0</td>\n",
       "      <td>hammock</td>\n",
       "      <td>0.428556</td>\n",
       "      <td>1</td>\n",
       "      <td>0.427466</td>\n",
       "      <td>1</td>\n",
       "      <td>0</td>\n",
       "      <td>1</td>\n",
       "      <td>fishing</td>\n",
       "      <td>1.535039</td>\n",
       "      <td>...</td>\n",
       "      <td>-1</td>\n",
       "      <td>1.535039</td>\n",
       "      <td>0.535039</td>\n",
       "      <td>19.006626</td>\n",
       "      <td>19.443776</td>\n",
       "      <td>1.5</td>\n",
       "      <td>NaN</td>\n",
       "      <td>1.833118</td>\n",
       "      <td>18.704274</td>\n",
       "      <td>17.759111</td>\n",
       "    </tr>\n",
       "    <tr>\n",
       "      <th>1</th>\n",
       "      <td>1</td>\n",
       "      <td>fishing</td>\n",
       "      <td>0.780145</td>\n",
       "      <td>1</td>\n",
       "      <td>1.850937</td>\n",
       "      <td>1</td>\n",
       "      <td>1</td>\n",
       "      <td>0</td>\n",
       "      <td>hammock</td>\n",
       "      <td>NaN</td>\n",
       "      <td>...</td>\n",
       "      <td>-1</td>\n",
       "      <td>2.411250</td>\n",
       "      <td>1.411250</td>\n",
       "      <td>19.104983</td>\n",
       "      <td>18.624982</td>\n",
       "      <td>2.5</td>\n",
       "      <td>NaN</td>\n",
       "      <td>4.157512</td>\n",
       "      <td>20.273393</td>\n",
       "      <td>16.964086</td>\n",
       "    </tr>\n",
       "    <tr>\n",
       "      <th>2</th>\n",
       "      <td>1</td>\n",
       "      <td>hammock</td>\n",
       "      <td>2.063393</td>\n",
       "      <td>1</td>\n",
       "      <td>0.708209</td>\n",
       "      <td>1</td>\n",
       "      <td>2</td>\n",
       "      <td>0</td>\n",
       "      <td>fishing</td>\n",
       "      <td>8.700606</td>\n",
       "      <td>...</td>\n",
       "      <td>-1</td>\n",
       "      <td>8.700606</td>\n",
       "      <td>7.700606</td>\n",
       "      <td>23.415469</td>\n",
       "      <td>16.541961</td>\n",
       "      <td>1.5</td>\n",
       "      <td>NaN</td>\n",
       "      <td>1.781221</td>\n",
       "      <td>16.030649</td>\n",
       "      <td>14.999397</td>\n",
       "    </tr>\n",
       "    <tr>\n",
       "      <th>3</th>\n",
       "      <td>2</td>\n",
       "      <td>fishing</td>\n",
       "      <td>-1.190336</td>\n",
       "      <td>1</td>\n",
       "      <td>-2.028002</td>\n",
       "      <td>1</td>\n",
       "      <td>3</td>\n",
       "      <td>4</td>\n",
       "      <td>fishing</td>\n",
       "      <td>0.371452</td>\n",
       "      <td>...</td>\n",
       "      <td>-1</td>\n",
       "      <td>0.371452</td>\n",
       "      <td>-0.628548</td>\n",
       "      <td>13.904880</td>\n",
       "      <td>15.298346</td>\n",
       "      <td>2.5</td>\n",
       "      <td>NaN</td>\n",
       "      <td>0.751039</td>\n",
       "      <td>13.874853</td>\n",
       "      <td>13.814541</td>\n",
       "    </tr>\n",
       "    <tr>\n",
       "      <th>4</th>\n",
       "      <td>3</td>\n",
       "      <td>fishing</td>\n",
       "      <td>-0.049084</td>\n",
       "      <td>1</td>\n",
       "      <td>0.607816</td>\n",
       "      <td>1</td>\n",
       "      <td>4</td>\n",
       "      <td>5</td>\n",
       "      <td>hammock</td>\n",
       "      <td>NaN</td>\n",
       "      <td>...</td>\n",
       "      <td>-1</td>\n",
       "      <td>1.285202</td>\n",
       "      <td>0.285202</td>\n",
       "      <td>13.405278</td>\n",
       "      <td>13.810606</td>\n",
       "      <td>2.5</td>\n",
       "      <td>NaN</td>\n",
       "      <td>3.105353</td>\n",
       "      <td>14.884157</td>\n",
       "      <td>12.398742</td>\n",
       "    </tr>\n",
       "  </tbody>\n",
       "</table>\n",
       "<p>5 rows × 22 columns</p>\n",
       "</div>"
      ],
      "text/plain": [
       "                   Experience_Fishing Lagged_Choice_1  Shock_Reward_Fishing  \\\n",
       "Identifier Period                                                             \n",
       "0          0                        0         hammock              0.428556   \n",
       "           1                        1         fishing              0.780145   \n",
       "           2                        1         hammock              2.063393   \n",
       "           3                        2         fishing             -1.190336   \n",
       "           4                        3         fishing             -0.049084   \n",
       "\n",
       "                   Meas_Error_Wage_Fishing  Shock_Reward_Hammock  \\\n",
       "Identifier Period                                                  \n",
       "0          0                             1              0.427466   \n",
       "           1                             1              1.850937   \n",
       "           2                             1              0.708209   \n",
       "           3                             1             -2.028002   \n",
       "           4                             1              0.607816   \n",
       "\n",
       "                   Meas_Error_Wage_Hammock  Dense_Key  Core_Index   Choice  \\\n",
       "Identifier Period                                                            \n",
       "0          0                             1          0           1  fishing   \n",
       "           1                             1          1           0  hammock   \n",
       "           2                             1          2           0  fishing   \n",
       "           3                             1          3           4  fishing   \n",
       "           4                             1          4           5  hammock   \n",
       "\n",
       "                       Wage  ...  Nonpecuniary_Reward_Fishing  Wage_Fishing  \\\n",
       "Identifier Period            ...                                              \n",
       "0          0       1.535039  ...                           -1      1.535039   \n",
       "           1            NaN  ...                           -1      2.411250   \n",
       "           2       8.700606  ...                           -1      8.700606   \n",
       "           3       0.371452  ...                           -1      0.371452   \n",
       "           4            NaN  ...                           -1      1.285202   \n",
       "\n",
       "                   Flow_Utility_Fishing  Value_Function_Fishing  \\\n",
       "Identifier Period                                                 \n",
       "0          0                   0.535039               19.006626   \n",
       "           1                   1.411250               19.104983   \n",
       "           2                   7.700606               23.415469   \n",
       "           3                  -0.628548               13.904880   \n",
       "           4                   0.285202               13.405278   \n",
       "\n",
       "                   Continuation_Value_Fishing  Nonpecuniary_Reward_Hammock  \\\n",
       "Identifier Period                                                            \n",
       "0          0                        19.443776                          1.5   \n",
       "           1                        18.624982                          2.5   \n",
       "           2                        16.541961                          1.5   \n",
       "           3                        15.298346                          2.5   \n",
       "           4                        13.810606                          2.5   \n",
       "\n",
       "                   Wage_Hammock  Flow_Utility_Hammock  Value_Function_Hammock  \\\n",
       "Identifier Period                                                               \n",
       "0          0                NaN              1.833118               18.704274   \n",
       "           1                NaN              4.157512               20.273393   \n",
       "           2                NaN              1.781221               16.030649   \n",
       "           3                NaN              0.751039               13.874853   \n",
       "           4                NaN              3.105353               14.884157   \n",
       "\n",
       "                   Continuation_Value_Hammock  \n",
       "Identifier Period                              \n",
       "0          0                        17.759111  \n",
       "           1                        16.964086  \n",
       "           2                        14.999397  \n",
       "           3                        13.814541  \n",
       "           4                        12.398742  \n",
       "\n",
       "[5 rows x 22 columns]"
      ]
     },
     "execution_count": 13,
     "metadata": {},
     "output_type": "execute_result"
    }
   ],
   "source": [
    "df_basic.head(5)"
   ]
  },
  {
   "cell_type": "markdown",
   "metadata": {},
   "source": [
    "Using our simulated data, we can now inspect the choices of Robinson."
   ]
  },
  {
   "cell_type": "code",
   "execution_count": 14,
   "metadata": {
    "ExecuteTime": {
     "end_time": "2020-11-03T21:38:14.104017Z",
     "start_time": "2020-11-03T21:38:13.862985Z"
    }
   },
   "outputs": [
    {
     "data": {
      "image/png": "[encoded data removed]",
      "text/plain": [
       "<Figure size 432x288 with 1 Axes>"
      ]
     },
     "metadata": {
      "needs_background": "light"
     },
     "output_type": "display_data"
    }
   ],
   "source": [
    "plot_choice_shares(df_basic)"
   ]
  },
  {
   "cell_type": "markdown",
   "metadata": {},
   "source": [
    "Inspecting the persistence in choices shows that Robinson rarely chooses the same option multiple times in a row."
   ]
  },
  {
   "cell_type": "code",
   "execution_count": 15,
   "metadata": {
    "ExecuteTime": {
     "end_time": "2020-11-03T21:38:14.313499Z",
     "start_time": "2020-11-03T21:38:14.105686Z"
    }
   },
   "outputs": [
    {
     "data": {
      "text/plain": [
       "<AxesSubplot:xlabel='Choice', ylabel='Lagged_Choice_1'>"
      ]
     },
     "execution_count": 15,
     "metadata": {},
     "output_type": "execute_result"
    },
    {
     "data": {
      "image/png": "[encoded data removed]",
      "text/plain": [
       "<Figure size 432x288 with 2 Axes>"
      ]
     },
     "metadata": {
      "needs_background": "light"
     },
     "output_type": "display_data"
    }
   ],
   "source": [
    "data = pd.crosstab(df_basic.Lagged_Choice_1, df_basic.Choice, normalize=True)\n",
    "sns.heatmap(data, cmap=\"Blues\", annot=True)"
   ]
  },
  {
   "cell_type": "markdown",
   "metadata": {},
   "source": [
    "<div class=\"alert alert-block alert-info\">\n",
    "    <u><h2>2.4. Extending the Model</h2></u>\n",
    "</div>"
   ]
  },
  {
   "cell_type": "markdown",
   "metadata": {},
   "source": [
    "As already stated in the introduction, one of the main advantages of **respy** is that the package is flexible regarding the model structure. We will illustrate this by extending the previously introduced model framework in several different ways."
   ]
  },
  {
   "cell_type": "markdown",
   "metadata": {},
   "source": [
    "<div class=\"alert alert-block alert-info\">\n",
    "    <u><h3>2.4.1. Extension: Covariates</h3></u>\n",
    "</div>\n",
    "\n",
    "Next we want to add a covariate. As before, we concentrate on a simple example, but this can be extended in any direction. Note, that in the basic model we had two covariates: \n",
    "\n",
    "1. The constant, which is the simplest covariate\n",
    "2. The indicator whether Robinson went fishing last period.\n",
    "\n",
    "Covariates allow to specify advanced return structures to each choice. In the following example, Robinson's return to fishing decreases as he gets older. We assume that he arrives at the island with 16 years. Then his age in each period, which we assume for now is one year, increases by one. So in each period his age is given by `period + 16`. We define the covariate and his value in each period in the option file."
   ]
  },
  {
   "cell_type": "code",
   "execution_count": 16,
   "metadata": {
    "ExecuteTime": {
     "end_time": "2020-11-03T21:38:14.319708Z",
     "start_time": "2020-11-03T21:38:14.315518Z"
    }
   },
   "outputs": [
    {
     "data": {
      "text/plain": [
       "{'n_periods': 10,\n",
       " 'simulation_agents': 1000,\n",
       " 'simulation_seed': 123,\n",
       " 'covariates': {'constant': '1',\n",
       "  'not_fishing_last_period': \"lagged_choice_1 != 'fishing'\",\n",
       "  'age': 'period + 16'}}"
      ]
     },
     "execution_count": 16,
     "metadata": {},
     "output_type": "execute_result"
    }
   ],
   "source": [
    "options_age = copy.deepcopy(options_basic)\n",
    "options_age[\"covariates\"].update({\"age\": \"period + 16\"})\n",
    "options_age"
   ]
  },
  {
   "cell_type": "markdown",
   "metadata": {},
   "source": [
    "In a second step, we specify the return for the choice for this covariate."
   ]
  },
  {
   "cell_type": "code",
   "execution_count": 17,
   "metadata": {
    "ExecuteTime": {
     "end_time": "2020-11-03T21:38:14.341865Z",
     "start_time": "2020-11-03T21:38:14.321170Z"
    }
   },
   "outputs": [
    {
     "data": {
      "text/html": [
       "<div>\n",
       "<style scoped>\n",
       "    .dataframe tbody tr th:only-of-type {\n",
       "        vertical-align: middle;\n",
       "    }\n",
       "\n",
       "    .dataframe tbody tr th {\n",
       "        vertical-align: top;\n",
       "    }\n",
       "\n",
       "    .dataframe thead th {\n",
       "        text-align: right;\n",
       "    }\n",
       "</style>\n",
       "<table border=\"1\" class=\"dataframe\">\n",
       "  <thead>\n",
       "    <tr style=\"text-align: right;\">\n",
       "      <th></th>\n",
       "      <th></th>\n",
       "      <th>value</th>\n",
       "    </tr>\n",
       "    <tr>\n",
       "      <th>category</th>\n",
       "      <th>name</th>\n",
       "      <th></th>\n",
       "    </tr>\n",
       "  </thead>\n",
       "  <tbody>\n",
       "    <tr>\n",
       "      <th>delta</th>\n",
       "      <th>delta</th>\n",
       "      <td>0.950</td>\n",
       "    </tr>\n",
       "    <tr>\n",
       "      <th>wage_fishing</th>\n",
       "      <th>exp_fishing</th>\n",
       "      <td>0.100</td>\n",
       "    </tr>\n",
       "    <tr>\n",
       "      <th>nonpec_fishing</th>\n",
       "      <th>constant</th>\n",
       "      <td>-1.000</td>\n",
       "    </tr>\n",
       "    <tr>\n",
       "      <th rowspan=\"2\" valign=\"top\">nonpec_hammock</th>\n",
       "      <th>constant</th>\n",
       "      <td>2.500</td>\n",
       "    </tr>\n",
       "    <tr>\n",
       "      <th>not_fishing_last_period</th>\n",
       "      <td>-1.000</td>\n",
       "    </tr>\n",
       "    <tr>\n",
       "      <th rowspan=\"3\" valign=\"top\">shocks_sdcorr</th>\n",
       "      <th>sd_fishing</th>\n",
       "      <td>1.000</td>\n",
       "    </tr>\n",
       "    <tr>\n",
       "      <th>sd_hammock</th>\n",
       "      <td>1.000</td>\n",
       "    </tr>\n",
       "    <tr>\n",
       "      <th>corr_hammock_fishing</th>\n",
       "      <td>-0.200</td>\n",
       "    </tr>\n",
       "    <tr>\n",
       "      <th>lagged_choice_1_hammock</th>\n",
       "      <th>constant</th>\n",
       "      <td>1.000</td>\n",
       "    </tr>\n",
       "    <tr>\n",
       "      <th>wage_fishing</th>\n",
       "      <th>age</th>\n",
       "      <td>-0.015</td>\n",
       "    </tr>\n",
       "  </tbody>\n",
       "</table>\n",
       "</div>"
      ],
      "text/plain": [
       "                                                 value\n",
       "category                name                          \n",
       "delta                   delta                    0.950\n",
       "wage_fishing            exp_fishing              0.100\n",
       "nonpec_fishing          constant                -1.000\n",
       "nonpec_hammock          constant                 2.500\n",
       "                        not_fishing_last_period -1.000\n",
       "shocks_sdcorr           sd_fishing               1.000\n",
       "                        sd_hammock               1.000\n",
       "                        corr_hammock_fishing    -0.200\n",
       "lagged_choice_1_hammock constant                 1.000\n",
       "wage_fishing            age                     -0.015"
      ]
     },
     "execution_count": 17,
     "metadata": {},
     "output_type": "execute_result"
    }
   ],
   "source": [
    "params_age = params_basic.copy()\n",
    "params_age.loc[(\"wage_fishing\", \"age\"), \"value\"] = -0.015\n",
    "params_age"
   ]
  },
  {
   "cell_type": "markdown",
   "metadata": {},
   "source": [
    "Having adjusted the parameters and options accordingly, we can now simulate data that incorporates the new age covariate. As the plot below shows, including the negative effect of age reduces the proportion of individuals that choose fishing, increasingly so in later periods."
   ]
  },
  {
   "cell_type": "code",
   "execution_count": 18,
   "metadata": {
    "ExecuteTime": {
     "end_time": "2020-11-03T21:38:14.932642Z",
     "start_time": "2020-11-03T21:38:14.343368Z"
    }
   },
   "outputs": [],
   "source": [
    "simulate = rp.get_simulate_func(params_age, options_age)\n",
    "df_age = simulate(params_age)"
   ]
  },
  {
   "cell_type": "code",
   "execution_count": 19,
   "metadata": {
    "ExecuteTime": {
     "end_time": "2020-11-03T21:38:15.089785Z",
     "start_time": "2020-11-03T21:38:14.934461Z"
    }
   },
   "outputs": [
    {
     "data": {
      "image/png": "[encoded data removed]",
      "text/plain": [
       "<Figure size 432x288 with 1 Axes>"
      ]
     },
     "metadata": {
      "needs_background": "light"
     },
     "output_type": "display_data"
    }
   ],
   "source": [
    "plot_choice_shares(df_age)"
   ]
  },
  {
   "cell_type": "markdown",
   "metadata": {},
   "source": [
    "<div class=\"alert alert-block alert-info\">\n",
    "    <u><h3>2.4.2. Extension: Adding Choices</h3></u>\n",
    "</div>\n",
    "\n",
    "Lets return to the basic example and alter the choice set of Robinson. Let's assume after some time on the island, Robinson meets Friday we can help him improve his fishing.\n",
    "\n",
    "We thus add the option `\"friday\"`, which affects the utility of fishing. The choice should be available only once starting with the third period, and only after Robinson has been fishing before. As a first step, we need to alter the parameter vector. Here we just import a pre-defined parameter vector from a .csv-file. There have been three main changes to the base parameter vector:\n",
    "\n",
    "1. `wage_fishing` now includes a return to contemplation with Friday.\n",
    "2. There is a new category,`nonpec_friday`, which captures the non-pecuniary reward for of spending a period with Friday. Since talking to Friday is purely non-pecuniary option, Robinson does not earn a wage when choosing it.\n",
    "3. The shock shock variance-covariance matrix has been altered to include the additional option. \n"
   ]
  },
  {
   "cell_type": "code",
   "execution_count": 20,
   "metadata": {
    "ExecuteTime": {
     "end_time": "2020-11-03T21:38:15.103134Z",
     "start_time": "2020-11-03T21:38:15.091417Z"
    }
   },
   "outputs": [
    {
     "data": {
      "text/html": [
       "<div>\n",
       "<style scoped>\n",
       "    .dataframe tbody tr th:only-of-type {\n",
       "        vertical-align: middle;\n",
       "    }\n",
       "\n",
       "    .dataframe tbody tr th {\n",
       "        vertical-align: top;\n",
       "    }\n",
       "\n",
       "    .dataframe thead th {\n",
       "        text-align: right;\n",
       "    }\n",
       "</style>\n",
       "<table border=\"1\" class=\"dataframe\">\n",
       "  <thead>\n",
       "    <tr style=\"text-align: right;\">\n",
       "      <th></th>\n",
       "      <th></th>\n",
       "      <th>value</th>\n",
       "    </tr>\n",
       "    <tr>\n",
       "      <th>category</th>\n",
       "      <th>name</th>\n",
       "      <th></th>\n",
       "    </tr>\n",
       "  </thead>\n",
       "  <tbody>\n",
       "    <tr>\n",
       "      <th>delta</th>\n",
       "      <th>delta</th>\n",
       "      <td>0.95</td>\n",
       "    </tr>\n",
       "    <tr>\n",
       "      <th rowspan=\"2\" valign=\"top\">wage_fishing</th>\n",
       "      <th>exp_fishing</th>\n",
       "      <td>0.10</td>\n",
       "    </tr>\n",
       "    <tr>\n",
       "      <th>contemplation_with_friday</th>\n",
       "      <td>0.40</td>\n",
       "    </tr>\n",
       "    <tr>\n",
       "      <th>nonpec_fishing</th>\n",
       "      <th>constant</th>\n",
       "      <td>-1.00</td>\n",
       "    </tr>\n",
       "    <tr>\n",
       "      <th rowspan=\"2\" valign=\"top\">nonpec_friday</th>\n",
       "      <th>constant</th>\n",
       "      <td>-1.00</td>\n",
       "    </tr>\n",
       "    <tr>\n",
       "      <th>not_fishing_last_period</th>\n",
       "      <td>-1.00</td>\n",
       "    </tr>\n",
       "    <tr>\n",
       "      <th rowspan=\"2\" valign=\"top\">nonpec_hammock</th>\n",
       "      <th>constant</th>\n",
       "      <td>2.50</td>\n",
       "    </tr>\n",
       "    <tr>\n",
       "      <th>not_fishing_last_period</th>\n",
       "      <td>-1.00</td>\n",
       "    </tr>\n",
       "    <tr>\n",
       "      <th rowspan=\"6\" valign=\"top\">shocks_sdcorr</th>\n",
       "      <th>sd_fishing</th>\n",
       "      <td>1.00</td>\n",
       "    </tr>\n",
       "    <tr>\n",
       "      <th>sd_friday</th>\n",
       "      <td>1.00</td>\n",
       "    </tr>\n",
       "    <tr>\n",
       "      <th>sd_hammock</th>\n",
       "      <td>1.00</td>\n",
       "    </tr>\n",
       "    <tr>\n",
       "      <th>corr_friday_fishing</th>\n",
       "      <td>0.00</td>\n",
       "    </tr>\n",
       "    <tr>\n",
       "      <th>corr_hammock_fishing</th>\n",
       "      <td>0.00</td>\n",
       "    </tr>\n",
       "    <tr>\n",
       "      <th>corr_hammock_friday</th>\n",
       "      <td>0.00</td>\n",
       "    </tr>\n",
       "    <tr>\n",
       "      <th>lagged_choice_1_hammock</th>\n",
       "      <th>constant</th>\n",
       "      <td>1.00</td>\n",
       "    </tr>\n",
       "  </tbody>\n",
       "</table>\n",
       "</div>"
      ],
      "text/plain": [
       "                                                   value\n",
       "category                name                            \n",
       "delta                   delta                       0.95\n",
       "wage_fishing            exp_fishing                 0.10\n",
       "                        contemplation_with_friday   0.40\n",
       "nonpec_fishing          constant                   -1.00\n",
       "nonpec_friday           constant                   -1.00\n",
       "                        not_fishing_last_period    -1.00\n",
       "nonpec_hammock          constant                    2.50\n",
       "                        not_fishing_last_period    -1.00\n",
       "shocks_sdcorr           sd_fishing                  1.00\n",
       "                        sd_friday                   1.00\n",
       "                        sd_hammock                  1.00\n",
       "                        corr_friday_fishing         0.00\n",
       "                        corr_hammock_fishing        0.00\n",
       "                        corr_hammock_friday         0.00\n",
       "lagged_choice_1_hammock constant                    1.00"
      ]
     },
     "execution_count": 20,
     "metadata": {},
     "output_type": "execute_result"
    }
   ],
   "source": [
    "params_friday = pd.read_csv(\n",
    "    \"params_files/robinson_crusoe_friday.csv\", index_col=[\"category\", \"name\"]\n",
    ")\n",
    "params_friday"
   ]
  },
  {
   "cell_type": "markdown",
   "metadata": {},
   "source": [
    "Turning to the `options`, we can see that the new covariate `\"contemplation_with_friday\"` is only affecting utility if Robinson is experienced in fishing and only for one interaction with Friday. This naturally limits the interaction with Friday."
   ]
  },
  {
   "cell_type": "code",
   "execution_count": 21,
   "metadata": {
    "ExecuteTime": {
     "end_time": "2020-11-03T21:38:15.118550Z",
     "start_time": "2020-11-03T21:38:15.104603Z"
    }
   },
   "outputs": [
    {
     "data": {
      "text/plain": [
       "{'constant': '1',\n",
       " 'contemplation_with_friday': 'exp_friday == 1 and exp_fishing >= 1',\n",
       " 'not_fishing_last_period': \"lagged_choice_1 != 'fishing'\"}"
      ]
     },
     "execution_count": 21,
     "metadata": {},
     "output_type": "execute_result"
    }
   ],
   "source": [
    "options_friday = yaml.safe_load(open(\"option_files/options_friday.yml\"))\n",
    "options_friday[\"covariates\"]"
   ]
  },
  {
   "cell_type": "markdown",
   "metadata": {},
   "source": [
    "The key `\"negative_choice_set\"` can be used to restrict the choice Friday to the third and following periods. The first key matches a choice. "
   ]
  },
  {
   "cell_type": "code",
   "execution_count": 22,
   "metadata": {
    "ExecuteTime": {
     "end_time": "2020-11-03T21:38:15.124745Z",
     "start_time": "2020-11-03T21:38:15.120583Z"
    }
   },
   "outputs": [
    {
     "data": {
      "text/plain": [
       "{'friday': ['period < 2', 'exp_fishing == 0']}"
      ]
     },
     "execution_count": 22,
     "metadata": {},
     "output_type": "execute_result"
    }
   ],
   "source": [
    "options_friday[\"negative_choice_set\"]"
   ]
  },
  {
   "cell_type": "markdown",
   "metadata": {
    "ExecuteTime": {
     "end_time": "2020-10-28T17:40:10.637492Z",
     "start_time": "2020-10-28T17:40:10.629363Z"
    }
   },
   "source": [
    "We additionally need to define `core_state_space_filters` now that we added Friday. They are specified as a list of strings that define certain events which shall be avoided. If the string evaluates to `True` for a potential state, the corresponding state is eliminated from the core state space. These options thus compliment the `negative_choice_set`. \n",
    "\n",
    "Some states are impossible from a model perspective, but eliminating them using the `core_state_space_filters` is still worthwhile to eliminate them to ease the computational burden of the model. See for instance the string `\"period > 0 and exp_fishing + exp_friday == period and lagged_choice_1 == 'hammock'\"`. This expression  essentially states hat whenever individuals accumulated as many years of experience as there are periods, the previous choice cannot be a choice without experience accumulation. This seems trivial, but states for which this expression evaluates to `True` will still be included in the state space if we do not eliminate them using the filters."
   ]
  },
  {
   "cell_type": "code",
   "execution_count": 23,
   "metadata": {
    "ExecuteTime": {
     "end_time": "2020-11-03T21:38:15.132430Z",
     "start_time": "2020-11-03T21:38:15.126075Z"
    }
   },
   "outputs": [
    {
     "data": {
      "text/plain": [
       "[\"period > 0 and exp_fishing + exp_friday == period and lagged_choice_1 == 'hammock'\",\n",
       " 'period <= 2 and exp_friday != 0',\n",
       " 'period >= 3 and period - exp_friday < 2',\n",
       " 'exp_friday > 0 and exp_fishing == 0',\n",
       " \"exp_friday > 0 and exp_fishing == 1 and lagged_choice_1 == 'fishing'\",\n",
       " \"period - exp_friday == 2 and lagged_choice_1 != 'friday' and period > 2\",\n",
       " \"exp_{choices_w_exp} == 0 and lagged_choice_1 == '{choices_w_exp}'\"]"
      ]
     },
     "execution_count": 23,
     "metadata": {},
     "output_type": "execute_result"
    }
   ],
   "source": [
    "options_friday[\"core_state_space_filters\"]"
   ]
  },
  {
   "cell_type": "markdown",
   "metadata": {
    "ExecuteTime": {
     "end_time": "2020-10-28T17:46:06.664580Z",
     "start_time": "2020-10-28T17:46:06.657690Z"
    }
   },
   "source": [
    "We can now simulate our new model including Friday."
   ]
  },
  {
   "cell_type": "code",
   "execution_count": 24,
   "metadata": {
    "ExecuteTime": {
     "end_time": "2020-11-03T21:38:17.528914Z",
     "start_time": "2020-11-03T21:38:15.134867Z"
    }
   },
   "outputs": [],
   "source": [
    "simulate = rp.get_simulate_func(params_friday, options_friday)\n",
    "df_friday = simulate(params_friday)"
   ]
  },
  {
   "cell_type": "code",
   "execution_count": 25,
   "metadata": {
    "ExecuteTime": {
     "end_time": "2020-11-03T21:38:17.721635Z",
     "start_time": "2020-11-03T21:38:17.530304Z"
    }
   },
   "outputs": [
    {
     "data": {
      "image/png": "[encoded data removed]",
      "text/plain": [
       "<Figure size 432x288 with 1 Axes>"
      ]
     },
     "metadata": {
      "needs_background": "light"
     },
     "output_type": "display_data"
    }
   ],
   "source": [
    "plot_choice_shares(df_friday, friday=True)"
   ]
  },
  {
   "cell_type": "markdown",
   "metadata": {},
   "source": [
    "<div class=\"alert alert-block alert-info\">\n",
    "    <u><h3>2.4.3. Extension: Initial Experience</h3></u>\n",
    "</div>"
   ]
  },
  {
   "cell_type": "markdown",
   "metadata": {},
   "source": [
    "Again returning to the basic example, we will next demonstrate how to include heterogeneity in initial conditions in `respy`: In period $t=0$, Robinson will have $0$, $1$, or $2$ periods of experience in fishing. We can thus analyze what happens to Robinson's choices if he lands on the island with previous experience in fishing attained before being stranded.\n",
    "\n",
    "To allow Robinson to have nonzero experience in fishing in the first period, we need to modify `params`: We specify the distribution of initial experience via **probability mass functions**, as the probabilities do not depend on any information. \n",
    "The keyword is `\"initial_exp_fishing_*\"` in the category-level of the index, where the asterisk needs to be replaced with the experience level. In the name-level, use `\"probability\"` to signal that the float in `\"value\"` is a probability. \n",
    "\n",
    "The new parameter specification is below: Robinson has equal probability to start out with 0, 1 or 2 periods of experience. However, one probability is set to 0.34 so that all probabilities sum to one. If that is not the case, `respy` will emit a warning and normalize probabilities to a uniform distribution."
   ]
  },
  {
   "cell_type": "code",
   "execution_count": 26,
   "metadata": {
    "ExecuteTime": {
     "end_time": "2020-11-03T21:38:17.738616Z",
     "start_time": "2020-11-03T21:38:17.723767Z"
    },
    "scrolled": true
   },
   "outputs": [
    {
     "data": {
      "text/html": [
       "<div>\n",
       "<style scoped>\n",
       "    .dataframe tbody tr th:only-of-type {\n",
       "        vertical-align: middle;\n",
       "    }\n",
       "\n",
       "    .dataframe tbody tr th {\n",
       "        vertical-align: top;\n",
       "    }\n",
       "\n",
       "    .dataframe thead th {\n",
       "        text-align: right;\n",
       "    }\n",
       "</style>\n",
       "<table border=\"1\" class=\"dataframe\">\n",
       "  <thead>\n",
       "    <tr style=\"text-align: right;\">\n",
       "      <th></th>\n",
       "      <th></th>\n",
       "      <th>value</th>\n",
       "    </tr>\n",
       "    <tr>\n",
       "      <th>category</th>\n",
       "      <th>name</th>\n",
       "      <th></th>\n",
       "    </tr>\n",
       "  </thead>\n",
       "  <tbody>\n",
       "    <tr>\n",
       "      <th>delta</th>\n",
       "      <th>delta</th>\n",
       "      <td>0.95</td>\n",
       "    </tr>\n",
       "    <tr>\n",
       "      <th>wage_fishing</th>\n",
       "      <th>exp_fishing</th>\n",
       "      <td>0.10</td>\n",
       "    </tr>\n",
       "    <tr>\n",
       "      <th>nonpec_fishing</th>\n",
       "      <th>constant</th>\n",
       "      <td>-1.00</td>\n",
       "    </tr>\n",
       "    <tr>\n",
       "      <th rowspan=\"2\" valign=\"top\">nonpec_hammock</th>\n",
       "      <th>constant</th>\n",
       "      <td>2.50</td>\n",
       "    </tr>\n",
       "    <tr>\n",
       "      <th>not_fishing_last_period</th>\n",
       "      <td>-1.00</td>\n",
       "    </tr>\n",
       "    <tr>\n",
       "      <th rowspan=\"3\" valign=\"top\">shocks_sdcorr</th>\n",
       "      <th>sd_fishing</th>\n",
       "      <td>1.00</td>\n",
       "    </tr>\n",
       "    <tr>\n",
       "      <th>sd_hammock</th>\n",
       "      <td>1.00</td>\n",
       "    </tr>\n",
       "    <tr>\n",
       "      <th>corr_hammock_fishing</th>\n",
       "      <td>-0.20</td>\n",
       "    </tr>\n",
       "    <tr>\n",
       "      <th>lagged_choice_1_hammock</th>\n",
       "      <th>constant</th>\n",
       "      <td>1.00</td>\n",
       "    </tr>\n",
       "    <tr>\n",
       "      <th>initial_exp_fishing_0</th>\n",
       "      <th>probability</th>\n",
       "      <td>0.33</td>\n",
       "    </tr>\n",
       "    <tr>\n",
       "      <th>initial_exp_fishing_1</th>\n",
       "      <th>probability</th>\n",
       "      <td>0.33</td>\n",
       "    </tr>\n",
       "    <tr>\n",
       "      <th>initial_exp_fishing_2</th>\n",
       "      <th>probability</th>\n",
       "      <td>0.34</td>\n",
       "    </tr>\n",
       "  </tbody>\n",
       "</table>\n",
       "</div>"
      ],
      "text/plain": [
       "                                                 value\n",
       "category                name                          \n",
       "delta                   delta                     0.95\n",
       "wage_fishing            exp_fishing               0.10\n",
       "nonpec_fishing          constant                 -1.00\n",
       "nonpec_hammock          constant                  2.50\n",
       "                        not_fishing_last_period  -1.00\n",
       "shocks_sdcorr           sd_fishing                1.00\n",
       "                        sd_hammock                1.00\n",
       "                        corr_hammock_fishing     -0.20\n",
       "lagged_choice_1_hammock constant                  1.00\n",
       "initial_exp_fishing_0   probability               0.33\n",
       "initial_exp_fishing_1   probability               0.33\n",
       "initial_exp_fishing_2   probability               0.34"
      ]
     },
     "execution_count": 26,
     "metadata": {},
     "output_type": "execute_result"
    }
   ],
   "source": [
    "params_initial_exp = params_basic.copy()\n",
    "params_initial_exp.loc[\n",
    "    (\"initial_exp_fishing_0\", \"probability\"), \"value\"\n",
    "] = 0.33\n",
    "params_initial_exp.loc[\n",
    "    (\"initial_exp_fishing_1\", \"probability\"), \"value\"\n",
    "] = 0.33\n",
    "params_initial_exp.loc[\n",
    "    (\"initial_exp_fishing_2\", \"probability\"), \"value\"\n",
    "] = 0.34\n",
    "params_initial_exp"
   ]
  },
  {
   "cell_type": "code",
   "execution_count": 23,
   "metadata": {
    "ExecuteTime": {
     "end_time": "2020-11-03T21:38:18.296086Z",
     "start_time": "2020-11-03T21:38:17.744882Z"
    }
   },
   "outputs": [],
   "source": [
    "simulate = rp.get_simulate_func(params_initial_exp, options_basic)\n",
    "df_exp = simulate(params_initial_exp)"
   ]
  },
  {
   "cell_type": "markdown",
   "metadata": {},
   "source": [
    "We can the plot the choice frequencies for both scenarios to compare Robinson's actions."
   ]
  },
  {
   "cell_type": "code",
   "execution_count": 24,
   "metadata": {
    "ExecuteTime": {
     "end_time": "2020-11-03T21:38:18.727601Z",
     "start_time": "2020-11-03T21:38:18.298175Z"
    }
   },
   "outputs": [
    {
     "data": {
      "image/png": "[encoded data removed]",
      "text/plain": [
       "<Figure size 720x288 with 2 Axes>"
      ]
     },
     "metadata": {
      "needs_background": "light"
     },
     "output_type": "display_data"
    }
   ],
   "source": [
    "plot_choice_prob_and_exp_level(df_basic)"
   ]
  },
  {
   "cell_type": "markdown",
   "metadata": {},
   "source": [
    "Comparing the plots shows that the share of engagement in fishing increases compared to the baseline scenario, as two thirds of Robinsons land on the island with previous experience in fishing. "
   ]
  },
  {
   "cell_type": "code",
   "execution_count": 25,
   "metadata": {
    "ExecuteTime": {
     "end_time": "2020-11-03T21:38:19.187619Z",
     "start_time": "2020-11-03T21:38:18.730155Z"
    }
   },
   "outputs": [
    {
     "data": {
      "image/png": "[encoded data removed]",
      "text/plain": [
       "<Figure size 720x288 with 2 Axes>"
      ]
     },
     "metadata": {
      "needs_background": "light"
     },
     "output_type": "display_data"
    }
   ],
   "source": [
    "plot_choice_prob_and_exp_level(df_exp)"
   ]
  },
  {
   "cell_type": "markdown",
   "metadata": {},
   "source": [
    "<div class=\"alert alert-block alert-info\">\n",
    "    <u><h3>2.4.4. Extension: Observables</h3></u>\n",
    "</div>"
   ]
  },
  {
   "cell_type": "markdown",
   "metadata": {},
   "source": [
    "Next add one observable characteristic to the baseline model, `\"Fishing_Grounds\"`: Now Robinson can end up, with a certain probability, on the side of the island which has `\"poor\"` or `\"rich\"` fishing grounds. Experiencing rich fishing grounds affects the **non-pecuniary reward** for fishing. \n",
    "\n",
    "To specify the observable, we add three additional rows to `params`:\n",
    "\n",
    "- The probability with which Robinson will find himself in rich and in poor fishing grounds;\n",
    "\n",
    "- The return for being in a rich fishing ground, which here is set to be positive and constant.\n",
    "\n",
    "`respy` allows for complex probability distributions of observables, which may for instance depend on other covariates. However, we will assume that the observable's probability distribution does not depend on any other information. We assume that each Robinson is randomly assigned to a certain side of the island, according to the float specified under value in the name-level probability.\n",
    "\n",
    "Note that all probabilities sum to one. If that is not the case, **respy** will emit a warning and normalize probabilities."
   ]
  },
  {
   "cell_type": "code",
   "execution_count": 26,
   "metadata": {
    "ExecuteTime": {
     "end_time": "2020-11-03T21:38:19.214334Z",
     "start_time": "2020-11-03T21:38:19.190609Z"
    }
   },
   "outputs": [
    {
     "data": {
      "text/html": [
       "<div>\n",
       "<style scoped>\n",
       "    .dataframe tbody tr th:only-of-type {\n",
       "        vertical-align: middle;\n",
       "    }\n",
       "\n",
       "    .dataframe tbody tr th {\n",
       "        vertical-align: top;\n",
       "    }\n",
       "\n",
       "    .dataframe thead th {\n",
       "        text-align: right;\n",
       "    }\n",
       "</style>\n",
       "<table border=\"1\" class=\"dataframe\">\n",
       "  <thead>\n",
       "    <tr style=\"text-align: right;\">\n",
       "      <th></th>\n",
       "      <th></th>\n",
       "      <th>value</th>\n",
       "    </tr>\n",
       "    <tr>\n",
       "      <th>category</th>\n",
       "      <th>name</th>\n",
       "      <th></th>\n",
       "    </tr>\n",
       "  </thead>\n",
       "  <tbody>\n",
       "    <tr>\n",
       "      <th>delta</th>\n",
       "      <th>delta</th>\n",
       "      <td>0.95</td>\n",
       "    </tr>\n",
       "    <tr>\n",
       "      <th>wage_fishing</th>\n",
       "      <th>exp_fishing</th>\n",
       "      <td>0.10</td>\n",
       "    </tr>\n",
       "    <tr>\n",
       "      <th>nonpec_fishing</th>\n",
       "      <th>constant</th>\n",
       "      <td>-1.00</td>\n",
       "    </tr>\n",
       "    <tr>\n",
       "      <th rowspan=\"2\" valign=\"top\">nonpec_hammock</th>\n",
       "      <th>constant</th>\n",
       "      <td>2.50</td>\n",
       "    </tr>\n",
       "    <tr>\n",
       "      <th>not_fishing_last_period</th>\n",
       "      <td>-1.00</td>\n",
       "    </tr>\n",
       "    <tr>\n",
       "      <th rowspan=\"3\" valign=\"top\">shocks_sdcorr</th>\n",
       "      <th>sd_fishing</th>\n",
       "      <td>1.00</td>\n",
       "    </tr>\n",
       "    <tr>\n",
       "      <th>sd_hammock</th>\n",
       "      <td>1.00</td>\n",
       "    </tr>\n",
       "    <tr>\n",
       "      <th>corr_hammock_fishing</th>\n",
       "      <td>-0.20</td>\n",
       "    </tr>\n",
       "    <tr>\n",
       "      <th>lagged_choice_1_hammock</th>\n",
       "      <th>constant</th>\n",
       "      <td>1.00</td>\n",
       "    </tr>\n",
       "    <tr>\n",
       "      <th>observable_fishing_grounds_rich</th>\n",
       "      <th>probability</th>\n",
       "      <td>0.50</td>\n",
       "    </tr>\n",
       "    <tr>\n",
       "      <th>observable_fishing_grounds_poor</th>\n",
       "      <th>probability</th>\n",
       "      <td>0.50</td>\n",
       "    </tr>\n",
       "    <tr>\n",
       "      <th>nonpec_fishing</th>\n",
       "      <th>rich_fishing_grounds</th>\n",
       "      <td>0.50</td>\n",
       "    </tr>\n",
       "  </tbody>\n",
       "</table>\n",
       "</div>"
      ],
      "text/plain": [
       "                                                         value\n",
       "category                        name                          \n",
       "delta                           delta                     0.95\n",
       "wage_fishing                    exp_fishing               0.10\n",
       "nonpec_fishing                  constant                 -1.00\n",
       "nonpec_hammock                  constant                  2.50\n",
       "                                not_fishing_last_period  -1.00\n",
       "shocks_sdcorr                   sd_fishing                1.00\n",
       "                                sd_hammock                1.00\n",
       "                                corr_hammock_fishing     -0.20\n",
       "lagged_choice_1_hammock         constant                  1.00\n",
       "observable_fishing_grounds_rich probability               0.50\n",
       "observable_fishing_grounds_poor probability               0.50\n",
       "nonpec_fishing                  rich_fishing_grounds      0.50"
      ]
     },
     "execution_count": 26,
     "metadata": {},
     "output_type": "execute_result"
    }
   ],
   "source": [
    "params_fish_ground = params_basic.copy()\n",
    "params_fish_ground.loc[\n",
    "    (\"observable_fishing_grounds_rich\", \"probability\"), \"value\"\n",
    "] = 0.5\n",
    "params_fish_ground.loc[\n",
    "    (\"observable_fishing_grounds_poor\", \"probability\"), \"value\"\n",
    "] = 0.5\n",
    "params_fish_ground.loc[\n",
    "    (\"nonpec_fishing\", \"rich_fishing_grounds\"), \"value\"\n",
    "] = 0.5\n",
    "params_fish_ground"
   ]
  },
  {
   "cell_type": "markdown",
   "metadata": {},
   "source": [
    "We also need to overwrite the covariates section of `options` to include which level of the observable is associated with a higher nonpecuniary reward for fishing:"
   ]
  },
  {
   "cell_type": "code",
   "execution_count": 27,
   "metadata": {
    "ExecuteTime": {
     "end_time": "2020-11-03T21:38:19.224027Z",
     "start_time": "2020-11-03T21:38:19.215747Z"
    }
   },
   "outputs": [
    {
     "data": {
      "text/plain": [
       "{'n_periods': 10,\n",
       " 'simulation_agents': 1000,\n",
       " 'simulation_seed': 123,\n",
       " 'covariates': {'constant': '1',\n",
       "  'not_fishing_last_period': \"lagged_choice_1 != 'fishing'\",\n",
       "  'rich_fishing_grounds': \"fishing_grounds == 'rich'\"}}"
      ]
     },
     "execution_count": 27,
     "metadata": {},
     "output_type": "execute_result"
    }
   ],
   "source": [
    "options_fish_ground = options_basic.copy()\n",
    "options_fish_ground[\"covariates\"] = {\n",
    "    \"constant\": \"1\",\n",
    "    \"not_fishing_last_period\": \"lagged_choice_1 != 'fishing'\",\n",
    "    \"rich_fishing_grounds\": \"fishing_grounds == 'rich'\",\n",
    "}\n",
    "options_fish_ground"
   ]
  },
  {
   "cell_type": "code",
   "execution_count": 28,
   "metadata": {
    "ExecuteTime": {
     "end_time": "2020-11-03T21:38:21.333367Z",
     "start_time": "2020-11-03T21:38:19.226309Z"
    }
   },
   "outputs": [],
   "source": [
    "simulate = rp.get_simulate_func(params_fish_ground, options_fish_ground)\n",
    "df_fish_ground = simulate(params_fish_ground)"
   ]
  },
  {
   "cell_type": "markdown",
   "metadata": {},
   "source": [
    "As can be expected, Robinson engages in fishing more often if he is stranded on the side of the island with rich fishing grounds."
   ]
  },
  {
   "cell_type": "code",
   "execution_count": 29,
   "metadata": {
    "ExecuteTime": {
     "end_time": "2020-11-03T21:38:21.598251Z",
     "start_time": "2020-11-03T21:38:21.334733Z"
    }
   },
   "outputs": [
    {
     "data": {
      "image/png": "[encoded data removed]",
      "text/plain": [
       "<Figure size 720x288 with 2 Axes>"
      ]
     },
     "metadata": {
      "needs_background": "light"
     },
     "output_type": "display_data"
    }
   ],
   "source": [
    "plot_fishing_grounds(df_fish_ground)"
   ]
  },
  {
   "cell_type": "markdown",
   "metadata": {},
   "source": [
    "<div class=\"alert alert-block alert-info\">\n",
    "    <u><h2>3. Example Models in respy</h2></u>\n",
    "</div>"
   ]
  },
  {
   "cell_type": "markdown",
   "metadata": {},
   "source": [
    "The story of Robinson is an illustrative introductory example to `respy`'s modeling capabilities. What may not be evident at first sight, is that it in this context is a story of human capital accumulation which constitutes a central topic in economic research. `respy` is designed to be used for much larger and more complex models that are capable of addressing real world policy questions and are calibrated to empirical data. To illustrate the scalability of `respy` models, the interface includes a number of example models that are taken from actual economic publications.\n",
    "\n",
    "They can be accessed as ```params, options, data = rp.get_example_model(<model>)```\n",
    "\n",
    "Below are the example models that are currently available. "
   ]
  },
  {
   "cell_type": "markdown",
   "metadata": {},
   "source": [
    "### Toy models\n",
    "\n",
    "The package provides users with two toy models. These models can be used to acquaintance oneself with **respy**'s functionalities and can be encountered in the [tutorials](https://respy.readthedocs.io/en/latest/tutorials/index.html) in the documentation. The models are called:\n",
    "\n",
    "- `robinson_crusoe_basic`\n",
    "- `robinson_crusoe_extended`\n",
    "\n",
    "We have gotten to know the toy models in this tutorial: we started off with a version of the most basic model in which has Robinson either fishing or relaxing in the hammock and, amongst other things, extended the model to `robinson_crusoe_extended` where he can additionally talk to Friday to improve his fishing.\n",
    "\n",
    "These models are excellent examples to use for learning and prototyping because they are very computationally feasible due to the small number of available choices and low number of periods in the models."
   ]
  },
  {
   "cell_type": "markdown",
   "metadata": {},
   "source": [
    "#### Basic Robinson Model"
   ]
  },
  {
   "cell_type": "code",
   "execution_count": 30,
   "metadata": {
    "ExecuteTime": {
     "end_time": "2020-11-03T21:38:22.717730Z",
     "start_time": "2020-11-03T21:38:21.599347Z"
    }
   },
   "outputs": [],
   "source": [
    "_, _, data = rp.get_example_model(\"robinson_crusoe_basic\")"
   ]
  },
  {
   "cell_type": "code",
   "execution_count": 31,
   "metadata": {
    "ExecuteTime": {
     "end_time": "2020-11-03T21:38:22.845740Z",
     "start_time": "2020-11-03T21:38:22.719139Z"
    }
   },
   "outputs": [
    {
     "data": {
      "image/png": "[encoded data removed]",
      "text/plain": [
       "<Figure size 432x288 with 1 Axes>"
      ]
     },
     "metadata": {
      "needs_background": "light"
     },
     "output_type": "display_data"
    }
   ],
   "source": [
    "plot_choice_shares(data)"
   ]
  },
  {
   "cell_type": "markdown",
   "metadata": {},
   "source": [
    "#### Extended Robinson Model"
   ]
  },
  {
   "cell_type": "code",
   "execution_count": 32,
   "metadata": {
    "ExecuteTime": {
     "end_time": "2020-11-03T21:38:23.764995Z",
     "start_time": "2020-11-03T21:38:22.848814Z"
    }
   },
   "outputs": [],
   "source": [
    "_, _, data = rp.get_example_model(\"robinson_crusoe_extended\")"
   ]
  },
  {
   "cell_type": "code",
   "execution_count": 33,
   "metadata": {
    "ExecuteTime": {
     "end_time": "2020-11-03T21:38:23.950106Z",
     "start_time": "2020-11-03T21:38:23.766320Z"
    }
   },
   "outputs": [
    {
     "data": {
      "image/png": "[encoded data removed]",
      "text/plain": [
       "<Figure size 432x288 with 1 Axes>"
      ]
     },
     "metadata": {
      "needs_background": "light"
     },
     "output_type": "display_data"
    }
   ],
   "source": [
    "plot_choice_shares(data, friday=True)"
   ]
  },
  {
   "cell_type": "markdown",
   "metadata": {},
   "source": [
    "### Keane and Wolpin (1994)\n",
    "\n",
    "Aside from toy models, **respy** also provides several models that stem from the economic literature on dynamic life-cycle models. The most simple examples are a group of models based on the following publication:\n",
    "\n",
    "- Keane, M. P., & Wolpin, K. I. (1994). The Solution and Estimation of Discrete Choice Dynamic Programming Models by Simulation and Interpolation: Monte Carlo Evidence. *The Review of Economics and Statistics*, 648-672.\n",
    "\n",
    "The study is mainly concerned with the computational difficulties that accompany the solution of discrete choice dynamic programming (DCDP) problems such as the ones encountered in dynamic life-cycle models of educational and occupational choice. In the study, Keane and Wolpin (1994) develop an approximate solution method which consists of Monte Carlo integration with simulation and an interpolation approach to ease the computational burden of solving the DCDP model. They utilize one model with three different parametrizations to assess their solution method. This model and its three parametrizations are example models that are part of the **respy** interface. They are called:\n",
    "\n",
    "- `kw_94_one`\n",
    "- `kw_94_two`\n",
    "- `kw_94_three`\n",
    "\n",
    "The model consists of four mutually exclusive alternatives that individuals can choose in each period. Agents can either choose to work in one of two sectors `a` or `b`, invest in education, or stay home. The work alternatives award a wage and experience, while school only awards experience. In the home option, individuals gain neither a wage nor experience. The plot below shows the choice patterns for the three parametrizations. The model considers a time horizon of 40 periods."
   ]
  },
  {
   "cell_type": "code",
   "execution_count": 34,
   "metadata": {
    "ExecuteTime": {
     "end_time": "2020-11-03T21:38:24.341760Z",
     "start_time": "2020-11-03T21:38:23.951866Z"
    }
   },
   "outputs": [
    {
     "data": {
      "image/png": "[encoded data removed]",
      "text/plain": [
       "<Figure size 1080x360 with 3 Axes>"
      ]
     },
     "metadata": {
      "needs_background": "light"
     },
     "output_type": "display_data"
    }
   ],
   "source": [
    "plot_choices_kw(example=\"1994\")"
   ]
  },
  {
   "cell_type": "markdown",
   "metadata": {},
   "source": [
    "### Keane and Wolpin (1997)\n",
    "\n",
    "A more advanced group of examples are given by the models developed by Keane and Wolpin (1997). In this study, the authors implement an empirical structural life-cycle model of occupational choice and human capital investment. They estimate their models on data from the National Longitudinal Survey of Youth (NLSY).\n",
    "\n",
    "* Keane, M. P., & Wolpin, K. I. (1997). The Career Decisions of Young Men. *Journal of Political Economy*, 105(3), 473-522.\n",
    "\n",
    "**respy** supports both the basic and extended model from the paper. They are named:\n",
    "\n",
    "- `kw_97_basic`\n",
    "- `kw_97_extended`\n",
    "\n",
    "However, the parametrization from the paper returns different life-cycle patterns for **respy** than presented in the paper. You can thus also access our estimates based for the models that are based on the same empirical data by adding `_respy` to the model name. \n",
    "\n",
    "\n",
    "The modelsnumber consists of three occupational choices (*white collar*, *blue collar*, and *military*), one educational choice (*school*), and a *home* option. Both models consider a life-cycle of 50 periods. These models are decidedly larger than the toy models explored in this tutorial and require a considerable amount of computation power to solve, especially the extended model. The estimated life-cycle patterns are shown below.\n"
   ]
  },
  {
   "cell_type": "code",
   "execution_count": 35,
   "metadata": {
    "ExecuteTime": {
     "end_time": "2020-11-03T21:38:24.623780Z",
     "start_time": "2020-11-03T21:38:24.343116Z"
    }
   },
   "outputs": [
    {
     "data": {
      "image/png": "[encoded data removed]",
      "text/plain": [
       "<Figure size 1080x360 with 2 Axes>"
      ]
     },
     "metadata": {
      "needs_background": "light"
     },
     "output_type": "display_data"
    }
   ],
   "source": [
    "plot_choices_kw(example=\"1997\")"
   ]
  },
  {
   "cell_type": "markdown",
   "metadata": {},
   "source": [
    "#### How do the models compare to empirical data?\n",
    "\n",
    "Below are the model predictions plotted against the observed choices. These plots correspond to Figure 1-5 (p.492-494) in the paper.  "
   ]
  },
  {
   "cell_type": "code",
   "execution_count": 36,
   "metadata": {
    "ExecuteTime": {
     "end_time": "2020-11-03T21:38:25.296312Z",
     "start_time": "2020-11-03T21:38:24.625169Z"
    }
   },
   "outputs": [
    {
     "data": {
      "image/png": "[encoded data removed]",
      "text/plain": [
       "<Figure size 1080x648 with 5 Axes>"
      ]
     },
     "metadata": {
      "needs_background": "light"
     },
     "output_type": "display_data"
    }
   ],
   "source": [
    "plot_kw_97_comparison()"
   ]
  },
  {
   "cell_type": "markdown",
   "metadata": {},
   "source": [
    "### Keane and Wolpin (2000)\n",
    "\n",
    "Another example model provided in the respy interface is the model presented in Keane and Wolpin (2000). The model incorporates an observable charactistic to account for race aiming to analyze the effects of monetary incentive schemes designed to reduce racial differences in school attainment and earnings.\n",
    "\n",
    "- Keane, M. P., & Wolpin, K. I. (2000). Eliminating Race Differences in School Attainment and Labor Market Success. *Journal of Labor Economics*, 18(4), 614-652.\n",
    "\n",
    "The model is named \n",
    "\n",
    "- `kw_2000`\n",
    "\n",
    "The model is very similar to the extended model specification in Keane and Wolpin (1997)."
   ]
  },
  {
   "cell_type": "markdown",
   "metadata": {},
   "source": [
    "<div class=\"alert alert-block alert-info\">\n",
    "    <u><h2>4. Further and upcoming functionalities in respy and other OpenSourceEconomics packages</h2></u>\n",
    "</div>"
   ]
  },
  {
   "cell_type": "markdown",
   "metadata": {},
   "source": [
    "As `respy` is an open source project multiple teams work on extensions of the existing flexibility. The next major advancements are:\n",
    "\n",
    "- Exogenous processes (childbirth, health shocks etc.)\n",
    "\n",
    "- Consumption and saving decision.\n",
    " \n",
    "A very recent and big step for `respy` was the introduction of state specific choice sets. As documentation is still in development, there are not tutorials yet for every aspect. The current documentation can be found [here](https://respy.readthedocs.io/en/latest/).\n",
    "\n",
    "Besides simulation of economic models, `respy` of course offers the possibility to estimate your model on data. Furthermore you have the option to fix certain parameters and only estimate others. For the estimation, the following techniques are available:\n",
    "\n",
    "- Maximum likelihood estimation (ML)\n",
    "- Method of simulated moments (MSM)\n",
    "\n",
    "For both techniques you can find details in our [ekw-lectures](https://github.com/OpenSourceEconomics/ekw-lectures/tree/master/lectures).\n",
    "\n",
    "Note that `respy`, does not have any optimizers implemented. For a set of given parameters `respy` creates the corresponding criterion function value. It is best optimized by the OpenSourceEconomics estimation package `estimagic`. Further examples of OSE software packages designed to interact with each other are:\n",
    "\n",
    "- [`ruspy`](https://ruspy.readthedocs.io/en/latest/) is an open-source Python package for the simulation and estimation of a prototypical infinite-horizon dynamic discrete choice model based on Rust (1987).\n",
    "\n",
    "- [`grmpy`](https://grmpy.readthedocs.io/en/latest/) is an open-source Python package for the simulation and estimation of the generalized Roy model.\n",
    "\n",
    "- [`econsa`](https://econsa.readthedocs.io/en/latest/) is an open-source Python package that facilitates uncertainty propagation and global sensitivity of computational economic models.analysis.\n",
    "\n",
    "- [`robupy`](https://robupy.readthedocs.io/en/latest/) is an open-source Python package for robust decision making.\n",
    "\n",
    "- [`gettsim`](https://gettsim.readthedocs.io/en/stable/) is an open-source Python package developed by OSE members providing a depiction of the German Taxes and Transfers System.\n",
    " \n",
    "\n",
    "Check out the OpenSourceEconomics homepage for more information on all packages https://open-econ.org."
   ]
  }
 ],
 "metadata": {
  "kernelspec": {
   "display_name": "Python 3",
   "language": "python",
   "name": "python3"
  },
  "language_info": {
   "codemirror_mode": {
    "name": "ipython",
    "version": 3
   },
   "file_extension": ".py",
   "mimetype": "text/x-python",
   "name": "python",
   "nbconvert_exporter": "python",
   "pygments_lexer": "ipython3",
   "version": "3.9.2"
  },
  "toc": {
   "base_numbering": 1,
   "nav_menu": {},
   "number_sections": false,
   "sideBar": true,
   "skip_h1_title": false,
   "title_cell": "Table of Contents",
   "title_sidebar": "Contents",
   "toc_cell": false,
   "toc_position": {
    "height": "calc(100% - 180px)",
    "left": "10px",
    "top": "150px",
    "width": "185.467px"
   },
   "toc_section_display": true,
   "toc_window_display": true
  },
  "varInspector": {
   "cols": {
    "lenName": 16,
    "lenType": 16,
    "lenVar": 40
   },
   "kernels_config": {
    "python": {
     "delete_cmd_postfix": "",
     "delete_cmd_prefix": "del ",
     "library": "var_list.py",
     "varRefreshCmd": "print(var_dic_list())"
    },
    "r": {
     "delete_cmd_postfix": ") ",
     "delete_cmd_prefix": "rm(",
     "library": "var_list.r",
     "varRefreshCmd": "cat(var_dic_list()) "
    }
   },
   "types_to_exclude": [
    "module",
    "function",
    "builtin_function_or_method",
    "instance",
    "_Feature"
   ],
   "window_display": false
  }
 },
 "nbformat": 4,
 "nbformat_minor": 4
}
